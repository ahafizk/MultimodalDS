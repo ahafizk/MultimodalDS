{
 "cells": [
  {
   "cell_type": "code",
   "execution_count": 1,
   "metadata": {},
   "outputs": [
    {
     "name": "stderr",
     "output_type": "stream",
     "text": [
      "Using TensorFlow backend.\n"
     ]
    }
   ],
   "source": [
    "import pandas as pd\n",
    "import numpy as np\n",
    "from numpy import mean\n",
    "from numpy import std\n",
    "from numpy import dstack\n",
    "import os\n",
    "import pickle\n",
    "from scipy import stats\n",
    "import scipy.signal as sigs\n",
    "import scipy.stats\n",
    "import cvxEDA\n",
    "from sklearn.model_selection import cross_val_score\n",
    "from sklearn.model_selection import cross_validate\n",
    "from sklearn.model_selection import train_test_split\n",
    "from sklearn.ensemble import RandomForestClassifier\n",
    "from sklearn.linear_model import LogisticRegression\n",
    "from sklearn.tree import DecisionTreeClassifier\n",
    "from sklearn.datasets import make_classification\n",
    "from sklearn.model_selection import StratifiedKFold\n",
    "from sklearn.metrics import confusion_matrix, accuracy_score, f1_score, precision_score, recall_score\n",
    "\n",
    "from keras.models import Sequential\n",
    "from keras.layers import Dense\n",
    "from keras.layers import Flatten\n",
    "from keras.layers import Dropout\n",
    "from keras.layers.convolutional import Conv1D\n",
    "from keras.layers.convolutional import MaxPooling1D\n",
    "from keras.utils import to_categorical\n",
    "from keras.regularizers import l2\n",
    "from keras import regularizers\n",
    "from matplotlib import pyplot as plt"
   ]
  },
  {
   "cell_type": "markdown",
   "metadata": {},
   "source": [
    "## Introduction \n",
    "<b>Objective of this experiment is to classify neural, stress and amusement using machine learning approach.</b>\n",
    "In this study,I considered data from Empatica E4 device sensors - accelerometer sensors, body temperature, electroderma activity (EDA), blood volume pulse and chest mounted RespiBN's respiration sensor data to predict <b>stress, amusement and neutral</b> class. I have considered, all 15 subjects data from the mentioned sensors data for this explorations.\n",
    "\n",
    "\n",
    "\n",
    "\n",
    "\n",
    "<b>Dataset Details:</b> The details of the dataset can be found in https://archive.ics.uci.edu/ml/datasets/WESAD+%28Wearable+Stress+and+Affect+Detection%29. \n",
    "\n",
    "This multimodal sensor dataset contains 15 subjects (mean age of 27.5 ± 2.4 years) physiology sensors and movement sensors data.\n",
    "Physiology sensors include blood volume pulse, electrocardiogram, electrodermal activity, electromyogram, respiration, body temperature and movement sensor include three axis accelerometer sensor data. Sensors were placed on two different body position both a wrist- and a chest-worn device. This dataset contains three classes/affective states -  neutral, stress, amuseemnt.\n",
    "\n",
    "The RespiBAN device provides the following sensor data: electrocardiogram (ECG), electrodermal activity (EDA), electromyogram (EMG), respiration, body temperature, and three-axis acceleration. All signals are sampled at 700 Hz.\n",
    "The Empatica E4 device provides the following sensor data: blood volume pulse (BVP, 64 Hz), electrodermal activity (EDA, 4 Hz), body temperature (4 Hz), and three-axis acceleration (32 Hz).\n",
    "\n",
    "The dataset's readme-file contains all further details with respect to the dataset structure, data format (RespiBAN device, Empatica E4 device, synchronised data), study protocol, and the self-report questionnaires.\n",
    "\n",
    "\n",
    " "
   ]
  },
  {
   "cell_type": "markdown",
   "metadata": {},
   "source": [
    "## Dataset Loading\n",
    "\n",
    "In this exploration, I considered only wrist-worn sensors data and respiration data from chest mounted RespiBAN device, detail sensor list and sampling frequency are presented in the below table.\n",
    "\n",
    " Sensors | Abbreviation | Frequency |\n",
    "--- | --- | ---\n",
    "blood volume pulse | BVP | 64 Hz |\n",
    "electrodermal activity | EDA | 4 Hz |\n",
    "body temperature | TEMP |    4 Hz   |\n",
    "three-axis acceleration | ACC |    32 Hz   |\n",
    "Respiration | Resp | 700 Hz|\n",
    "\n",
    "\n",
    "\n",
    "\n",
    "\n",
    "Dataset provided annotation for each samples at a sampling rate of 700Hz, for each of the subjects. maximum number of annotation are 4496100 for the subjects are provided. \n",
    "\n",
    "\n",
    "All sensors data are provided as pickle object for corresponding subject. Below method load the data from multiple sensors for each subject."
   ]
  },
  {
   "cell_type": "code",
   "execution_count": 2,
   "metadata": {},
   "outputs": [],
   "source": [
    "def load_data(sub_id):\n",
    "    data_dir = \"./WESAD/\"\n",
    "    name = f'S{sub_id}' # subject name i.e., S3 \n",
    "    \n",
    "        \n",
    "    with open(os.path.join(data_dir, name) + '/' + name + '.pkl', 'rb') as file:\n",
    "        data = pickle.load(file, encoding='latin1')\n",
    "    labels = data['label']\n",
    "    \n",
    "    #loading wrist sensors data - Empatica E4\n",
    "    wrist_data = data['signal']['wrist']\n",
    "    eda_df = pd.DataFrame(wrist_data['EDA'], columns=['eda'])\n",
    "    bvp_df = pd.DataFrame(wrist_data['BVP'], columns=['bvp'])\n",
    "    acc_df = pd.DataFrame(wrist_data['ACC'], columns=['x', 'y', 'z'])\n",
    "    temp_df = pd.DataFrame(wrist_data['TEMP'], columns=['temp'])\n",
    "    #chest mounted Resp data loading\n",
    "    resp_df= pd.DataFrame(data['signal']['chest']['Resp'],columns=['resp'])\n",
    "    label_df = pd.DataFrame(labels, columns=['label'])\n",
    "\n",
    "    return eda_df,bvp_df,acc_df,temp_df,resp_df,label_df"
   ]
  },
  {
   "cell_type": "code",
   "execution_count": 3,
   "metadata": {},
   "outputs": [],
   "source": [
    "#loading sampling frequency of the data for later use\n",
    "\n",
    "fs = {'eda': 4,'bvp': 64, 'acc': 32, 'resp':700, 'temp': 4,'label': 700} #assign label frequency 700 - max freq 700"
   ]
  },
  {
   "cell_type": "markdown",
   "metadata": {},
   "source": [
    "## Sensor Signals Processing \n",
    "In this experiemnt multimodal sensor data are considered and these sensors have different sampling frequency. Therefore, we need preprocessing the data to align all the sensors signal together. Since different sensors have different sampling rate, we assign index based on the sampling rate to each sample for the corresponding sensor signal and convert this index to datetime index for later joining all the data together.\n",
    "\n",
    "``````python\n",
    "def assign_index(data,fs):\n",
    "    data.index = [(1 / fs) * i for i in range(len(data))]\n",
    "    data.index = pd.to_datetime(data.index, unit='s') #converting to datetime\n",
    "    return data\n",
    "    \n",
    "```\n",
    "\n",
    "We also need to filters the signals as sensor signals are noisy. In this experiment, I used lowpass filter for EDA signal (since most of the frequency band lies within 5-6Hz) and FIR filter for accelerometer sensnors signals. Finally these sensors signals are joined together based on the index and save into the filtered signals for each subject. During this processing, we also extract phasic, tonic, sudomotor neuron activity (SMNA) from the filtered EDA sensor signals. "
   ]
  },
  {
   "cell_type": "code",
   "execution_count": 4,
   "metadata": {},
   "outputs": [],
   "source": [
    "def butter_lowpass(cutoff, fs, order=5):\n",
    "    nyq = 0.5 * fs\n",
    "    normal_cutoff = cutoff / nyq\n",
    "    b, a = sigs.butter(order, normal_cutoff, btype='low', analog=False)\n",
    "    return b, a"
   ]
  },
  {
   "cell_type": "code",
   "execution_count": 5,
   "metadata": {},
   "outputs": [],
   "source": [
    "def lowpass_filter(data, cutoff, fs, order=5):\n",
    "    b, a = butter_lowpass(cutoff, fs, order=order)\n",
    "    y = sigs.lfilter(b, a, data)\n",
    "    return y"
   ]
  },
  {
   "cell_type": "code",
   "execution_count": 6,
   "metadata": {},
   "outputs": [],
   "source": [
    "def filter_signal_fir(data, cutoff=0.4, numtaps=64):\n",
    "    f = cutoff / (fs['acc'] / 2.0)\n",
    "    coeff = sigs.firwin(numtaps, f)\n",
    "\n",
    "    return sigs.lfilter(coeff, 1, data)"
   ]
  },
  {
   "cell_type": "code",
   "execution_count": 7,
   "metadata": {},
   "outputs": [],
   "source": [
    "def filter_accelerometer_signal(acc_df, cutoff=0.4, numtaps=64):\n",
    "    length = len(acc_df.columns)\n",
    "    for cname in acc_df.columns.tolist():\n",
    "        f = cutoff / (fs['acc'] / 2.0)\n",
    "        coeff = sigs.firwin(numtaps, f)\n",
    "        acc_df[cname] = sigs.lfilter(coeff, 1, acc_df[cname].values) #filter accelerometer data\n",
    "    return acc_df"
   ]
  },
  {
   "cell_type": "code",
   "execution_count": 8,
   "metadata": {},
   "outputs": [],
   "source": [
    "def assign_index(data,fs):\n",
    "    data.index = [(1 / fs) * i for i in range(len(data))]\n",
    "    data.index = pd.to_datetime(data.index, unit='s') #converting to datetime\n",
    "    return data"
   ]
  },
  {
   "cell_type": "code",
   "execution_count": 9,
   "metadata": {},
   "outputs": [],
   "source": [
    "def preprocess_data():\n",
    "    sub_ids = [2, 3, 4, 5, 6, 7, 8, 9, 10, 11, 13, 14, 15, 16, 17]\n",
    "    df_list =[]\n",
    "    for sub in sub_ids:\n",
    "        eda_df,bvp_df,acc_df,temp_df,resp_df,label_df = load_data(sub) \n",
    "    \n",
    "        #filter accelerometer signals\n",
    "        acc_df = filter_accelerometer_signal(acc_df)\n",
    "        acc_df = assign_index(acc_df,fs['acc']) #create index using \n",
    "        eda_df['eda'] = lowpass_filter(eda_df['eda'], 1.0, fs['eda'])\n",
    "        yn = (eda_df['eda'] - eda_df['eda'].mean()) / eda_df['eda'].std()\n",
    "        r, p, t, l, d, e, obj = cvxEDA.cvxEDA(yn, 1. / fs['eda'])\n",
    "        \n",
    "        eda_df['EDA_tonic'] = t\n",
    "        eda_df['EDA_phasic'] = r\n",
    "        eda_df['EDA_smna'] = p\n",
    "        \n",
    "        eda_df = assign_index(eda_df,fs['eda']) #assign index based on sampling frequency\n",
    "        \n",
    "        bvp_df = assign_index(bvp_df,fs['bvp'])\n",
    "        temp_df = assign_index(temp_df,fs['temp'])\n",
    "        resp_df = assign_index(resp_df,fs['resp'])\n",
    "        label_df = assign_index(label_df,fs['label'])\n",
    "        \n",
    " \n",
    "        #merge individual signals \n",
    "        df = eda_df.join(bvp_df, how='outer')\n",
    "        df = df.join(temp_df, how='outer')\n",
    "        df = df.join(acc_df, how='outer')\n",
    "        df = df.join(resp_df, how='outer')\n",
    "        df = df.join(label_df, how='outer')\n",
    "        #filling missing labels values \n",
    "        df['label'] = df['label'].fillna(method='bfill')\n",
    "        df.reset_index(drop=True, inplace=True)\n",
    "        \n",
    "        \n",
    "        df.to_csv(f'data/filtered/S{sub}.csv',index=False)"
   ]
  },
  {
   "cell_type": "code",
   "execution_count": 10,
   "metadata": {},
   "outputs": [],
   "source": [
    "preprocess_data()"
   ]
  },
  {
   "cell_type": "markdown",
   "metadata": {},
   "source": [
    "## Feature Extraction\n",
    "\n",
    "In this section, we computed standard statistical features mean, standard deviation, min, max features from the dataset for each annotatation. We use window size of 30 second to compute this statistics. We use sliding window based approach without overlapping of the signal. In addition to these features, we also compute blood volume pulse spectrogram and blood volume peak frequency from blood volume signal."
   ]
  },
  {
   "cell_type": "code",
   "execution_count": 11,
   "metadata": {},
   "outputs": [],
   "source": [
    "def compute_features(data,w_size,num_win,label):\n",
    "    \n",
    "    feat_list = []\n",
    "    feat_names=None\n",
    "    for i in range(num_win):\n",
    "        \n",
    "        frame = data[w_size * i: w_size * (i + 1)] #get frame\n",
    "        _mean = np.mean(frame)\n",
    "        _std = np.std(frame)\n",
    "        _min = np.amin(frame)\n",
    "        _max = np.amax(frame)\n",
    "\n",
    "        features = {'mean': _mean, 'std': _std, 'min': _min, 'max': _max,\n",
    "                    'label': label}\n",
    "\n",
    "        \n",
    "        x = pd.DataFrame(features).drop('label', axis=0)\n",
    "        y = x['label'][0]\n",
    "        x.drop('label', axis=1, inplace=True)\n",
    "\n",
    "        \n",
    "        if feat_names is None:\n",
    "            feat_names = []\n",
    "            for row in x.index:\n",
    "                for col in x.columns:\n",
    "                    feat_names.append('_'.join([row, col]))\n",
    "\n",
    "\n",
    "        df_fet = pd.DataFrame(x.values.flatten()).T\n",
    "        df_fet.columns = feat_names\n",
    "        df_fet = pd.concat([df_fet, pd.DataFrame({'label': y}, index=[0])], axis=1)\n",
    "        \n",
    "        #compute blood volume pulse spectrogram\n",
    "        bvp_sig = frame['bvp'].dropna()\n",
    "        f, Pxx = sigs.periodogram(bvp_sig, fs=8)\n",
    "        psd_dict = {amp: freq for amp, freq in zip(Pxx, f)}\n",
    "        peak_freq = psd_dict[max(psd_dict.keys())]\n",
    "        df_fet['bvp_peak_freq'] = peak_freq\n",
    "\n",
    "             \n",
    "        feat_list.append(df_fet)\n",
    "                                  \n",
    "    return pd.concat(feat_list)"
   ]
  },
  {
   "cell_type": "code",
   "execution_count": 12,
   "metadata": {},
   "outputs": [],
   "source": [
    "def compute_subject_wise_features():\n",
    "    sub_ids = [2, 3, 4, 5, 6, 7, 8, 9, 10, 11, 13, 14, 15, 16, 17]\n",
    "\n",
    "    seg_len = 30 #seconds\n",
    "    for sub in sub_ids:\n",
    "        #load data\n",
    "        df = pd.read_csv(f'data/filtered/S{sub}.csv')\n",
    "        #compute eda raw features\n",
    "        \n",
    "        gr_df = df.groupby('label')\n",
    "        \n",
    "        \n",
    "        base_sig = gr_df.get_group(1)\n",
    "        window_size = fs['label'] * seg_len\n",
    "        n_base_win = int(len(base_sig) / (window_size))\n",
    "        base_feats = compute_features(base_sig,window_size,n_base_win,1) # base as label 0 (baseline, n_baseline_wdws, 1)\n",
    "        \n",
    "        stress_sig = gr_df.get_group(2)\n",
    "        window_size = fs['label'] * seg_len\n",
    "        n_stress_win = int(len(stress_sig) / (window_size))\n",
    "        stress_feats = compute_features(stress_sig,window_size,n_stress_win,2) # stress as label 1\n",
    "        \n",
    "        amuse_sig = gr_df.get_group(3)\n",
    "        window_size = fs['label'] * seg_len\n",
    "        n_amuse_win = int(len(amuse_sig) / ( window_size))\n",
    "        amuse_feats = compute_features(amuse_sig,window_size,n_amuse_win,0) # stress as label 1\n",
    "        \n",
    "        #combine all category features\n",
    "        \n",
    "        features = pd.concat([base_feats, stress_feats, amuse_feats])\n",
    "\n",
    "        features = pd.concat([features.drop('label', axis=1), pd.get_dummies(features['label'])],axis=1)\n",
    "        \n",
    "        features.to_csv(f'data/features/S{sub}.csv')\n",
    "        \n",
    "        \n",
    "        "
   ]
  },
  {
   "cell_type": "code",
   "execution_count": 13,
   "metadata": {},
   "outputs": [],
   "source": [
    "compute_subject_wise_features()"
   ]
  },
  {
   "cell_type": "code",
   "execution_count": 18,
   "metadata": {},
   "outputs": [],
   "source": [
    "def combine_all_subject_features():\n",
    "\n",
    "    sub_ids = [2, 3, 4, 5, 6, 7, 8, 9, 10, 11, 13, 14, 15, 16, 17]\n",
    "    df_list = []\n",
    "    count= 0\n",
    "    for sub in sub_ids:\n",
    "        tmp = pd.read_csv(f'data/features/S{sub}.csv', index_col=0)\n",
    "        count+=len(tmp)\n",
    "        df_list.append(tmp)\n",
    "\n",
    "    df = pd.concat(df_list,axis=0)\n",
    "    df['label'] = (df['0'].astype(str) + df['1'].astype(str) + df['2'].astype(str)).apply(lambda x: x.index('1'))\n",
    "    df.drop(['0', '1', '2'], axis=1, inplace=True)\n",
    "\n",
    "\n",
    "    df.reset_index(drop=True, inplace=True)\n",
    "    df.to_csv('all_subjects_features.csv',index=False)\n",
    "    return df"
   ]
  },
  {
   "cell_type": "code",
   "execution_count": 19,
   "metadata": {},
   "outputs": [
    {
     "data": {
      "text/plain": [
       "(1178, 42)"
      ]
     },
     "execution_count": 19,
     "metadata": {},
     "output_type": "execute_result"
    }
   ],
   "source": [
    "df = combine_all_subject_features()\n",
    "df.shape"
   ]
  },
  {
   "cell_type": "code",
   "execution_count": 20,
   "metadata": {},
   "outputs": [],
   "source": [
    "\n",
    "def build_ml_stress_model(X,y):\n",
    "\n",
    "    models = {'rf':None,'dt':None,}\n",
    " \n",
    "    clf = RandomForestClassifier(n_estimators=100, max_depth=5, oob_score=True)\n",
    "    clf.fit(X, y)\n",
    "    models['rf'] = clf\n",
    "    models['dt'] = DecisionTreeClassifier()\n",
    "    models['dt'].fit(X,y)\n",
    "\n",
    "\n",
    "    return models"
   ]
  },
  {
   "cell_type": "code",
   "execution_count": 21,
   "metadata": {},
   "outputs": [],
   "source": [
    "df = pd.read_csv('merged_features.csv')\n",
    "X = df.iloc[:,0:-2]\n",
    "y = df.iloc[:,-1]\n",
    "trainX, testX, trainY, testY = train_test_split(X, y, test_size=0.25)\n"
   ]
  },
  {
   "cell_type": "code",
   "execution_count": 22,
   "metadata": {},
   "outputs": [],
   "source": [
    "models = build_ml_stress_model(trainX, trainY)"
   ]
  },
  {
   "cell_type": "markdown",
   "metadata": {},
   "source": [
    "## Building Convolutional Neural Network\n",
    "In this section, we have explored how deep neural network model works by building Convolutional Neural Network. Due to the computational limitation, we fed the handcrafted features to the CNN module for faster train (We can pass only a small number of training samples). Our assumption is that, if we pass the raw features to the CNN model, it will establish correlation among the features and learn inherent pattern from the raw freatures. Our model has 2 convolutional layer with filter size 64 each and a fully connected layer with  128 neuron and a softmax classifier layer. We incorporate l2 regularization parameter with value 0.01 and drop out penalty is set to 0.5 in the network for reducing the effect of overfitting. We use cross_entropy loss function and optimized the network parameter using adam optimizer."
   ]
  },
  {
   "cell_type": "code",
   "execution_count": 23,
   "metadata": {},
   "outputs": [],
   "source": [
    "def build_cnn(nsamples,nfeatures,nout):\n",
    "    model = Sequential()\n",
    "    model.add(Conv1D(filters=64, kernel_size=3, activation='relu', input_shape=(nsamples,nfeatures)))\n",
    "    model.add(Conv1D(filters=64, kernel_size=3, activation='relu'))\n",
    "    model.add(Dropout(0.5))\n",
    "    model.add(MaxPooling1D(pool_size=2))\n",
    "#     model.add(Conv1D(filters=32, kernel_size=3, activation='relu'))\n",
    "#     model.add(Dropout(0.5))\n",
    "#     model.add(MaxPooling1D(pool_size=2))\n",
    "    model.add(Flatten())\n",
    "    model.add(Dense(128, activation='relu',kernel_regularizer=l2(0.01)))  #adding regularization to the network to add\n",
    "    model.add(Dense(nout, activation='softmax'))\n",
    "    model.compile(loss='categorical_crossentropy', optimizer='adam', metrics=['accuracy'])\n",
    "    return model"
   ]
  },
  {
   "cell_type": "code",
   "execution_count": 24,
   "metadata": {},
   "outputs": [],
   "source": [
    "def train_cnn(model, trainX, trainy,epochs=10,batch_size=32):\n",
    "\n",
    "    history = model.fit(trainX, trainy, validation_split=0.20, epochs=epochs, batch_size=32,verbose=0 )\n",
    "\n",
    "    plt.subplot(211)\n",
    "    plt.title('Loss Curve')\n",
    "    plt.plot(history.history['loss'], label='train')\n",
    "    plt.plot(history.history['val_loss'], label='test')\n",
    "    plt.legend()\n",
    "\n",
    "    plt.show()\n",
    "    \n",
    "    # Plot training & validation accuracy values\n",
    "    plt.plot(history.history['acc'])\n",
    "    plt.plot(history.history['val_acc'])\n",
    "    plt.title('Model accuracy')\n",
    "    plt.ylabel('Accuracy')\n",
    "    plt.xlabel('Epoch')\n",
    "    plt.legend(['Train', 'Test'], loc='upper left')\n",
    "    plt.show()\n",
    "        \n",
    "    return model"
   ]
  },
  {
   "cell_type": "code",
   "execution_count": 25,
   "metadata": {},
   "outputs": [],
   "source": [
    "def computing_scores(model, testX,testY,name='cnn'):\n",
    "    \n",
    "    pred_probs = model.predict(testX)\n",
    "    if name=='cnn':\n",
    "        pred_classes = model.predict_classes(testX)\n",
    "        pred_probs = pred_probs[:, 0]\n",
    "    else:\n",
    "        pred_classes = pred_probs\n",
    "\n",
    "    accuracy = accuracy_score(testY, pred_classes)\n",
    "    precision = precision_score(testY, pred_classes,average='micro')\n",
    "    recall = recall_score(testY, pred_classes,average='micro')\n",
    "    f1 = f1_score(testY, pred_classes,average='micro')\n",
    "    print('Confusion Matrix::')\n",
    "    cm = confusion_matrix(testY, pred_classes)\n",
    "    print(cm)\n",
    "    print('Accuracy: %f' % accuracy)\n",
    "    print('Precision: %f' % precision)\n",
    "    print('Recall: %f' % recall)\n",
    "    print('F1 score: %f' % f1)\n",
    "    return {'acc':accuracy,'precision':precision,'recall':recall,'f1':f1,'cm':cm}"
   ]
  },
  {
   "cell_type": "code",
   "execution_count": null,
   "metadata": {},
   "outputs": [],
   "source": []
  },
  {
   "cell_type": "markdown",
   "metadata": {},
   "source": [
    "## Model Selection\n",
    "We perform 5 fold cross validation to select the best model among CNN, Random Forest and Decision Tree Classifiers. \n",
    "### CNN model cross validation"
   ]
  },
  {
   "cell_type": "code",
   "execution_count": 28,
   "metadata": {},
   "outputs": [
    {
     "name": "stdout",
     "output_type": "stream",
     "text": [
      "WARNING:tensorflow:From /Users/hafiz/anaconda3/envs/weather/lib/python3.6/site-packages/keras/backend/tensorflow_backend.py:74: The name tf.get_default_graph is deprecated. Please use tf.compat.v1.get_default_graph instead.\n",
      "\n",
      "WARNING:tensorflow:From /Users/hafiz/anaconda3/envs/weather/lib/python3.6/site-packages/keras/backend/tensorflow_backend.py:517: The name tf.placeholder is deprecated. Please use tf.compat.v1.placeholder instead.\n",
      "\n",
      "WARNING:tensorflow:From /Users/hafiz/anaconda3/envs/weather/lib/python3.6/site-packages/keras/backend/tensorflow_backend.py:4138: The name tf.random_uniform is deprecated. Please use tf.random.uniform instead.\n",
      "\n",
      "WARNING:tensorflow:From /Users/hafiz/anaconda3/envs/weather/lib/python3.6/site-packages/keras/backend/tensorflow_backend.py:133: The name tf.placeholder_with_default is deprecated. Please use tf.compat.v1.placeholder_with_default instead.\n",
      "\n",
      "WARNING:tensorflow:From /Users/hafiz/anaconda3/envs/weather/lib/python3.6/site-packages/keras/backend/tensorflow_backend.py:3445: calling dropout (from tensorflow.python.ops.nn_ops) with keep_prob is deprecated and will be removed in a future version.\n",
      "Instructions for updating:\n",
      "Please use `rate` instead of `keep_prob`. Rate should be set to `rate = 1 - keep_prob`.\n",
      "WARNING:tensorflow:From /Users/hafiz/anaconda3/envs/weather/lib/python3.6/site-packages/keras/backend/tensorflow_backend.py:3976: The name tf.nn.max_pool is deprecated. Please use tf.nn.max_pool2d instead.\n",
      "\n",
      "WARNING:tensorflow:From /Users/hafiz/anaconda3/envs/weather/lib/python3.6/site-packages/keras/optimizers.py:790: The name tf.train.Optimizer is deprecated. Please use tf.compat.v1.train.Optimizer instead.\n",
      "\n",
      "WARNING:tensorflow:From /Users/hafiz/anaconda3/envs/weather/lib/python3.6/site-packages/keras/backend/tensorflow_backend.py:3295: The name tf.log is deprecated. Please use tf.math.log instead.\n",
      "\n",
      "WARNING:tensorflow:From /Users/hafiz/anaconda3/envs/weather/lib/python3.6/site-packages/tensorflow_core/python/ops/math_grad.py:1424: where (from tensorflow.python.ops.array_ops) is deprecated and will be removed in a future version.\n",
      "Instructions for updating:\n",
      "Use tf.where in 2.0, which has the same broadcast rule as np.where\n",
      "WARNING:tensorflow:From /Users/hafiz/anaconda3/envs/weather/lib/python3.6/site-packages/keras/backend/tensorflow_backend.py:986: The name tf.assign_add is deprecated. Please use tf.compat.v1.assign_add instead.\n",
      "\n",
      "WARNING:tensorflow:From /Users/hafiz/anaconda3/envs/weather/lib/python3.6/site-packages/keras/backend/tensorflow_backend.py:973: The name tf.assign is deprecated. Please use tf.compat.v1.assign instead.\n",
      "\n",
      "WARNING:tensorflow:From /Users/hafiz/anaconda3/envs/weather/lib/python3.6/site-packages/keras/backend/tensorflow_backend.py:2741: The name tf.Session is deprecated. Please use tf.compat.v1.Session instead.\n",
      "\n",
      "WARNING:tensorflow:From /Users/hafiz/anaconda3/envs/weather/lib/python3.6/site-packages/keras/backend/tensorflow_backend.py:174: The name tf.get_default_session is deprecated. Please use tf.compat.v1.get_default_session instead.\n",
      "\n",
      "WARNING:tensorflow:From /Users/hafiz/anaconda3/envs/weather/lib/python3.6/site-packages/keras/backend/tensorflow_backend.py:181: The name tf.ConfigProto is deprecated. Please use tf.compat.v1.ConfigProto instead.\n",
      "\n",
      "WARNING:tensorflow:From /Users/hafiz/anaconda3/envs/weather/lib/python3.6/site-packages/keras/backend/tensorflow_backend.py:190: The name tf.global_variables is deprecated. Please use tf.compat.v1.global_variables instead.\n",
      "\n",
      "WARNING:tensorflow:From /Users/hafiz/anaconda3/envs/weather/lib/python3.6/site-packages/keras/backend/tensorflow_backend.py:199: The name tf.is_variable_initialized is deprecated. Please use tf.compat.v1.is_variable_initialized instead.\n",
      "\n",
      "WARNING:tensorflow:From /Users/hafiz/anaconda3/envs/weather/lib/python3.6/site-packages/keras/backend/tensorflow_backend.py:206: The name tf.variables_initializer is deprecated. Please use tf.compat.v1.variables_initializer instead.\n",
      "\n",
      "Confusion Matrix::\n",
      "[[ 33   5   1]\n",
      " [ 14 109   3]\n",
      " [  0   0  71]]\n",
      "Accuracy: 0.902542\n",
      "Precision: 0.902542\n",
      "Recall: 0.902542\n",
      "F1 score: 0.902542\n",
      "Confusion Matrix::\n",
      "[[ 35   4   0]\n",
      " [ 12 113   1]\n",
      " [  3   4  64]]\n",
      "Accuracy: 0.898305\n",
      "Precision: 0.898305\n",
      "Recall: 0.898305\n",
      "F1 score: 0.898305\n",
      "Confusion Matrix::\n",
      "[[ 26  13   0]\n",
      " [  1 121   4]\n",
      " [  0   1  70]]\n",
      "Accuracy: 0.919492\n",
      "Precision: 0.919492\n",
      "Recall: 0.919492\n",
      "F1 score: 0.919492\n",
      "Confusion Matrix::\n",
      "[[ 27  12   0]\n",
      " [  7 117   1]\n",
      " [  0   0  71]]\n",
      "Accuracy: 0.914894\n",
      "Precision: 0.914894\n",
      "Recall: 0.914894\n",
      "F1 score: 0.914894\n",
      "Confusion Matrix::\n",
      "[[ 33   6   0]\n",
      " [  9 110   6]\n",
      " [  0   0  71]]\n",
      "Accuracy: 0.910638\n",
      "Precision: 0.910638\n",
      "Recall: 0.910638\n",
      "F1 score: 0.910638\n",
      "Average Performance:: 90.92% (+/- 0.78%)\n"
     ]
    }
   ],
   "source": [
    "\n",
    "X = df.iloc[:,0:-2]\n",
    "y = df.iloc[:,-1]\n",
    "kfold = StratifiedKFold(n_splits=5, shuffle=True, random_state=42)\n",
    "cvscores = []\n",
    "\n",
    "X=X.values\n",
    "y=y.values\n",
    "\n",
    "acc = []\n",
    "f1 = []\n",
    "p = []\n",
    "r = []\n",
    "\n",
    "for train, test in kfold.split(X, y):\n",
    "    \n",
    "    trainY=y[train]\n",
    "    trainX = X[train,:]\n",
    "\n",
    "    trainX=np.reshape(X[train],(trainX.shape[0],trainX.shape[1],1))\n",
    "\n",
    "\n",
    "    trainY = to_categorical(trainY)\n",
    "\n",
    "    nsamples, nfeatures, n_outputs = trainX.shape[1], trainX.shape[2], 3\n",
    "    \n",
    "    testX = X[test]\n",
    "    testY = y[test]\n",
    "#     testY = to_categorical(testY)\n",
    "    testX=np.reshape(testX,(testX.shape[0],testX.shape[1],1))\n",
    "    verbose, epochs, batch_size = 0, 50, 32\n",
    "    cnn_model = build_cnn(nsamples,nfeatures,n_outputs)\n",
    "    cnn_model.fit(trainX, trainY, epochs=30, batch_size=10, verbose=0)\n",
    "   \n",
    "    scores = computing_scores(cnn_model,testX,testY)\n",
    "\n",
    "    acc.append(scores['acc']*100)\n",
    "    f1.append(scores['f1']*100)\n",
    "    p.append(scores['precision']*100)\n",
    "    r.append(scores['recall']*100)\n",
    "\n",
    "print(\"Average Performance:: %.2f%% (+/- %.2f%%)\" % (np.mean(f1), np.std(f1)))"
   ]
  },
  {
   "cell_type": "markdown",
   "metadata": {},
   "source": [
    "## Cross Validation of machine learning model (Random Forest, Decision Tree)\n",
    "Below we create two models random forest and decision tree classifier and performed 5 fold cross validation."
   ]
  },
  {
   "cell_type": "code",
   "execution_count": 29,
   "metadata": {},
   "outputs": [
    {
     "name": "stdout",
     "output_type": "stream",
     "text": [
      "0.7740028849621349 0.10801365897208548\n"
     ]
    }
   ],
   "source": [
    "\n",
    "X = df.iloc[:,0:-2]\n",
    "y = df.iloc[:,-1]\n",
    "model = RandomForestClassifier(random_state=1)\n",
    "cv = cross_validate(model, X, y, cv=5,scoring=['f1_micro','balanced_accuracy'])\n",
    "\n",
    "print(mean(cv['test_f1_micro']),std(cv['test_f1_micro']))"
   ]
  },
  {
   "cell_type": "code",
   "execution_count": 30,
   "metadata": {},
   "outputs": [
    {
     "name": "stdout",
     "output_type": "stream",
     "text": [
      "0.6730472412549585 0.08444712894972961\n"
     ]
    }
   ],
   "source": [
    "model = DecisionTreeClassifier()\n",
    "cv = cross_validate(model, X, y, cv=5,scoring=['f1_micro','balanced_accuracy'])\n",
    "print(mean(cv['test_f1_micro']),std(cv['test_f1_micro']))"
   ]
  },
  {
   "cell_type": "code",
   "execution_count": 35,
   "metadata": {},
   "outputs": [
    {
     "data": {
      "image/png": "[encoded data removed]",
      "text/plain": [
       "<Figure size 432x288 with 1 Axes>"
      ]
     },
     "metadata": {
      "needs_background": "light"
     },
     "output_type": "display_data"
    }
   ],
   "source": [
    "algos = ['Random Forest','CNN','Decision Tree']\n",
    "y_pos = [0,1,2]\n",
    "performance=[77.40,90.92,67.30]\n",
    "std = [10.80,7.80,8.44]\n",
    "plt.bar(y_pos, performance, align='center', yerr=std)\n",
    "plt.xticks(y_pos, algos)\n",
    "plt.ylabel('Usage')\n",
    "plt.title('Algorithms')\n",
    "plt.show()"
   ]
  },
  {
   "cell_type": "markdown",
   "metadata": {},
   "source": [
    "## Model selection based on cross-validation performance\n",
    "We trained 3 models, random forest, decision tree and convolutional neural network and perform 5 fold cross validation results. From the cross-validation results we see that, CNN model performs best among three classifiers and CNN model achieves f1-score 90.92% whereas random forest and decision tree achieve 77.40% and 67.30% respectively. We also notice that CNN model shown lower error (7.8%) compared to RF and DT. We conclude that our CNN model able to establish correlation among the stastical features and learn inherent patterns accordingly, that helps achieves better perormance."
   ]
  },
  {
   "cell_type": "markdown",
   "metadata": {},
   "source": [
    "## CNN model Training \n",
    "In this section we, split the training and testing dataset and evaluate our deep CNN model performance against testing datasets. We reported the accuracy, f1 score, precision and recall metrics to evaluate our CNN model performance."
   ]
  },
  {
   "cell_type": "code",
   "execution_count": 31,
   "metadata": {},
   "outputs": [
    {
     "data": {
      "image/png": "[encoded data removed]",
      "text/plain": [
       "<Figure size 432x288 with 1 Axes>"
      ]
     },
     "metadata": {
      "needs_background": "light"
     },
     "output_type": "display_data"
    },
    {
     "data": {
      "image/png": "[encoded data removed]",
      "text/plain": [
       "<Figure size 432x288 with 1 Axes>"
      ]
     },
     "metadata": {
      "needs_background": "light"
     },
     "output_type": "display_data"
    }
   ],
   "source": [
    "\n",
    "\n",
    "X = df.iloc[:,0:-2]\n",
    "y = df.iloc[:,-1]\n",
    "trainX, testX, trainY, testY = train_test_split(X, y, test_size=0.20)\n",
    "\n",
    "\n",
    "trainY=trainY.values\n",
    "\n",
    "trainX=np.reshape(trainX.values,(trainX.shape[0],trainX.shape[1],1))\n",
    "\n",
    "\n",
    "testX=np.reshape(testX.values,(testX.shape[0],testX.shape[1],1))\n",
    "\n",
    "trainY = to_categorical(trainY)\n",
    "\n",
    "nsamples, nfeatures, n_outputs = trainX.shape[1], trainX.shape[2], 3\n",
    "\n",
    "verbose, epochs, batch_size = 0, 50, 32\n",
    "cnn_model = build_cnn(nsamples,nfeatures,n_outputs)\n",
    "cnn_model = train_cnn(cnn_model,trainX,trainY,epochs= epochs)\n"
   ]
  },
  {
   "cell_type": "markdown",
   "metadata": {},
   "source": [
    "## Explanation of CNN performance: \n",
    "\n",
    "From the above figure, we notice that with >=30 epochs CNN model converges. From the epoch vs accuracy curve we observe that validation curve closely follow training accuracy curve. After 50 epochs, validation and training accuracy differs 5-6%. That means our CNN model has low variance and low bias.\n"
   ]
  },
  {
   "cell_type": "code",
   "execution_count": 36,
   "metadata": {},
   "outputs": [
    {
     "name": "stdout",
     "output_type": "stream",
     "text": [
      "Confusion Matrix::\n",
      "[[ 31  17   1]\n",
      " [  6 118   1]\n",
      " [  0   1  61]]\n",
      "Accuracy: 0.889831\n",
      "Precision: 0.889831\n",
      "Recall: 0.889831\n",
      "F1 score: 0.889831\n"
     ]
    },
    {
     "data": {
      "text/plain": [
       "{'acc': 0.8898305084745762,\n",
       " 'precision': 0.8898305084745762,\n",
       " 'recall': 0.8898305084745762,\n",
       " 'f1': 0.8898305084745762,\n",
       " 'cm': array([[ 31,  17,   1],\n",
       "        [  6, 118,   1],\n",
       "        [  0,   1,  61]])}"
      ]
     },
     "execution_count": 36,
     "metadata": {},
     "output_type": "execute_result"
    }
   ],
   "source": [
    "computing_scores(cnn_model,testX,testY)"
   ]
  },
  {
   "cell_type": "markdown",
   "metadata": {},
   "source": [
    "## Conclusion\n",
    "\n",
    "Since our CNN model performs best among other machine learning model, we trained CNN model with the training set and test with independent testing set to evauate the performance. We see that CNN model achives 88.98% F1 score. Our predicting classes are neutral (0), stress (1) and amusement (2) respectively. From the confusion matrix, we see that our class distribution are imbalanced therefore we used weighted metric calculation for all the performance metrics. Our classifier shows poor performance on detecting neutral class and around 50% samples are detected as stress. This could happend due to similar signal pattern labeled as neutral or subjects stress levels are different with neutral condition. We also notice that in case of amusement scenario, our model performs better and only a single instance is detected as stress. "
   ]
  },
  {
   "cell_type": "code",
   "execution_count": null,
   "metadata": {},
   "outputs": [],
   "source": []
  }
 ],
 "metadata": {
  "kernelspec": {
   "display_name": "Python 3",
   "language": "python",
   "name": "python3"
  },
  "language_info": {
   "codemirror_mode": {
    "name": "ipython",
    "version": 3
   },
   "file_extension": ".py",
   "mimetype": "text/x-python",
   "name": "python",
   "nbconvert_exporter": "python",
   "pygments_lexer": "ipython3",
   "version": "3.6.9"
  }
 },
 "nbformat": 4,
 "nbformat_minor": 2
}
